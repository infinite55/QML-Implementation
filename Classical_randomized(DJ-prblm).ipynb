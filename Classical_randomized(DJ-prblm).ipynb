{
 "cells": [
  {
   "cell_type": "markdown",
   "id": "f83077b9",
   "metadata": {},
   "source": [
    "# Classical Randomized Algorithm for Deutsch-Jozsa Problem"
   ]
  },
  {
   "cell_type": "code",
   "execution_count": 164,
   "id": "dfa5757c",
   "metadata": {},
   "outputs": [],
   "source": [
    "import random"
   ]
  },
  {
   "cell_type": "code",
   "execution_count": 165,
   "id": "a8060d23",
   "metadata": {},
   "outputs": [],
   "source": [
    "def classify_function(func):\n",
    "    n = 2  # Number of bits in the function's input\n",
    "\n",
    "    # Generate a random binary string of length n and call it x\n",
    "    x = ''.join(random.choices(['0', '1'], k=n))\n",
    "    print(x)\n",
    "    if func(x) == 0:\n",
    "        # Function is constant\n",
    "        return \"constant\"\n",
    "    else:\n",
    "        # Function is not constant\n",
    "        # Generate a random binary string of length n and call it y\n",
    "        y = ''.join(random.choices(['0', '1'], k=n))\n",
    "        print(y)\n",
    "        if func(y) == 0:\n",
    "            # Function is balanced\n",
    "            return \"balanced\"\n",
    "        else:\n",
    "            # Function is constant\n",
    "            return \"constant\""
   ]
  },
  {
   "cell_type": "code",
   "execution_count": 166,
   "id": "a5eeb2ca",
   "metadata": {},
   "outputs": [],
   "source": [
    "# Example function that is constant\n",
    "def constant_function(x):\n",
    "    return 1"
   ]
  },
  {
   "cell_type": "code",
   "execution_count": 167,
   "id": "45a462b7",
   "metadata": {},
   "outputs": [],
   "source": [
    "# Example function that is balanced\n",
    "def balanced_function(x):\n",
    "    if x == '00':\n",
    "        return 0\n",
    "    else:\n",
    "        return 1"
   ]
  },
  {
   "cell_type": "code",
   "execution_count": 168,
   "id": "c041e7f8",
   "metadata": {},
   "outputs": [
    {
     "name": "stdout",
     "output_type": "stream",
     "text": [
      "00\n",
      "00\n",
      "constant\n"
     ]
    }
   ],
   "source": [
    "print(classify_function(constant_function))  # Output: \"constant\""
   ]
  },
  {
   "cell_type": "code",
   "execution_count": 169,
   "id": "1d0709a8",
   "metadata": {},
   "outputs": [
    {
     "name": "stdout",
     "output_type": "stream",
     "text": [
      "10\n",
      "00\n",
      "balanced\n"
     ]
    }
   ],
   "source": [
    "print(classify_function(balanced_function))  # Output: \"balanced\" (should be, but is not 100% accurate)"
   ]
  },
  {
   "cell_type": "code",
   "execution_count": null,
   "id": "027d55d0",
   "metadata": {},
   "outputs": [],
   "source": []
  },
  {
   "cell_type": "markdown",
   "id": "dd1c452a",
   "metadata": {},
   "source": [
    "This algorithm is a classical randomized algorithm because it uses randomness to make its decisions. It is not a quantum algorithm, because it does not take advantage of the unique properties of quantum systems."
   ]
  },
  {
   "cell_type": "code",
   "execution_count": null,
   "id": "e63e934d",
   "metadata": {},
   "outputs": [],
   "source": []
  }
 ],
 "metadata": {
  "kernelspec": {
   "display_name": "Python 3 (ipykernel)",
   "language": "python",
   "name": "python3"
  },
  "language_info": {
   "codemirror_mode": {
    "name": "ipython",
    "version": 3
   },
   "file_extension": ".py",
   "mimetype": "text/x-python",
   "name": "python",
   "nbconvert_exporter": "python",
   "pygments_lexer": "ipython3",
   "version": "3.9.12"
  }
 },
 "nbformat": 4,
 "nbformat_minor": 5
}
