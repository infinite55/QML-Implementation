{
 "cells": [
  {
   "cell_type": "markdown",
   "id": "05dc3d72",
   "metadata": {},
   "source": [
    "# Variational quantum eigensolver\n",
    "A tool to address a specific class of combinatorial problems. VQEs share with quantum machine learning techniques the main driving idea of using classical optimization to minimize the expectation of an observable as the cost function."
   ]
  },
  {
   "cell_type": "markdown",
   "id": "3a0a4bce",
   "metadata": {},
   "source": [
    "It is a quantum algorithm that can be used to find the lowest-energy eigenstate (i.e., the ground state) of a quantum system. The VQE algorithm is a hybrid quantum-classical algorithm, meaning that it combines the use of a quantum computer with classical computation. The VQE algorithm works by iteratively finding the parameters of a trial wave function that best approximate the ground state of the quantum system. The trial wave function is a mathematical function that is used to represent the state of the quantum system, and it is parameterized by a set of parameters that can be adjusted to optimize the wave function.\n",
    "\n",
    "The VQE algorithm uses a quantum computer to prepare the trial wave function and measure the energy of the wave function, and classical computation to optimize the parameters of the wave function based on the energy measurement. The optimization process is repeated until the ground state of the quantum system is found to a desired accuracy. It has the potential to enable the simulation of quantum systems that are otherwise too complex to be simulated using classical computers."
   ]
  },
  {
   "cell_type": "markdown",
   "id": "f769bca2",
   "metadata": {},
   "source": [
    "**Problem**: Calculate the ground state energy of a $H_{3}$ molecule to understand VQE <br>\n",
    "Steps: <br>\n",
    "1. Find molecular Hamiltonian\n",
    "2. Prepare trial ground state using ansatz\n",
    "3. Minimize the expectation value of Hamiltonian$(<\\hat{H}>)$"
   ]
  },
  {
   "cell_type": "code",
   "execution_count": 47,
   "id": "ce78a2c2",
   "metadata": {},
   "outputs": [],
   "source": [
    "import pennylane as qml\n",
    "from pennylane import numpy as np\n",
    "from pennylane import qchem"
   ]
  },
  {
   "cell_type": "code",
   "execution_count": 48,
   "id": "9a6110b1",
   "metadata": {},
   "outputs": [],
   "source": [
    "# Step-1\n",
    "symbols = [\"H\", \"H\", \"H\"]\n",
    "coordinates = np.array([[0.0102, 0.0442, 0.0], [0.9867, 1.6303, 0.0], [1.8720, -0.0085, 0.0]])"
   ]
  },
  {
   "cell_type": "code",
   "execution_count": 49,
   "id": "1add530d",
   "metadata": {},
   "outputs": [],
   "source": [
    "# instead code for H3 ion as its easier to work with 2 electrons than with 3\n",
    "hamiltonian, qubits = qchem.molecular_hamiltonian(symbols, coordinates, charge=1)  # define molecular hamiltonian; also calculates the number of qubits that we need for our model"
   ]
  },
  {
   "cell_type": "code",
   "execution_count": 50,
   "id": "5bdc8cc9",
   "metadata": {},
   "outputs": [
    {
     "name": "stdout",
     "output_type": "stream",
     "text": [
      "6\n"
     ]
    }
   ],
   "source": [
    "print(qubits)"
   ]
  },
  {
   "cell_type": "code",
   "execution_count": 51,
   "id": "141d4ab4",
   "metadata": {},
   "outputs": [
    {
     "name": "stdout",
     "output_type": "stream",
     "text": [
      "[1 1 0 0 0 0]\n"
     ]
    }
   ],
   "source": [
    "#define an approximate ground state known as Hartree-Fock State\n",
    "hf = qchem.hf_state(electrons=2, orbitals=6)\n",
    "print(hf)"
   ]
  },
  {
   "cell_type": "code",
   "execution_count": 52,
   "id": "0775d661",
   "metadata": {},
   "outputs": [],
   "source": [
    "num_wires = qubits\n",
    "dev = qml.device(\"default.qubit\", wires=num_wires)"
   ]
  },
  {
   "cell_type": "code",
   "execution_count": 53,
   "id": "58fa4277",
   "metadata": {},
   "outputs": [],
   "source": [
    "@qml.qnode(dev)\n",
    "def exp_energy(state):\n",
    "    qml.BasisState(np.array(state),wires=range(num_wires)) #BasisState operation to initialize the qubit register\n",
    "    return qml.expval(hamiltoninan)"
   ]
  },
  {
   "cell_type": "code",
   "execution_count": 54,
   "id": "4a10cc3b",
   "metadata": {},
   "outputs": [
    {
     "data": {
      "text/plain": [
       "tensor(-1.24655016, requires_grad=True)"
      ]
     },
     "execution_count": 54,
     "metadata": {},
     "output_type": "execute_result"
    }
   ],
   "source": [
    "exp_energy(hf)"
   ]
  },
  {
   "cell_type": "markdown",
   "id": "bd3ebb6f",
   "metadata": {},
   "source": [
    "we get an energy of -1.24, we will see that this is really not the ground energy so it is not the ground state"
   ]
  },
  {
   "cell_type": "markdown",
   "id": "c3d39160",
   "metadata": {},
   "source": [
    "$\\newcommand{\\ket}[1]{\\left|{#1}\\right\\rangle}$\n",
    "$\\newcommand{\\bra}[1]{\\left\\langle{#1}\\right|}$\n",
    "**Double Excitation gate**: takes one parameter $\\theta$ and it takes 4 input qubits, say 1,1,0,0. Then what this gate will do is take it into a superposition: $\\cos{\\frac{\\theta}{2}}\\ket{1100}-\\sin{\\frac{\\theta}{2}}\\ket{0011}$ \n",
    "\n",
    "It takes the lower energy electrons into a superposition with themselves and the higher levels and also de-excites. So if the initial state was $\\ket{0011}$, it would take it to $\\cos{\\frac{\\theta}{2}}\\ket{0011}+\\sin{\\frac{\\theta}{2}}\\ket{1100}$ "
   ]
  },
  {
   "cell_type": "markdown",
   "id": "aa2df9c6",
   "metadata": {},
   "source": [
    "ansatz for the ground state: we are working with 6qubits so it should be a superposition between the Hartree-Fock State(initial state), the state with two electrons in the second energy level and the state with two electrons in the highest energy level <br>\n",
    "ansatz: $\\alpha \\ket{110000}+\\beta \\ket{001100}+\\gamma \\ket{000011}$ <br>\n",
    "Why this ansatz? In the Hartree-Fock approximation, we neglect some interactions between electrons which are strongest when the electrons are in the same molecular energy level, for this reason this ansatz accounts for the error made in the Hartree-Fock approximation <br>\n",
    "trial state: $\\ket{\\psi}= \\cos{\\frac{\\theta_{1}}{2}}(\\cos{\\frac{\\theta_{2}}{2}}\\ket{110000}-\\sin{\\frac{\\theta_{2}}{2}}\\ket{000011})-\\sin{\\frac{\\theta_{1}}{2}}\\ket{001100}$"
   ]
  },
  {
   "cell_type": "code",
   "execution_count": 55,
   "id": "748211a5",
   "metadata": {},
   "outputs": [],
   "source": [
    "# Step-2\n",
    "# double excitation gate prepares the candidate ground state\n",
    "def ansatz(params): #params: parameters of the double excitation gate\n",
    "    qml.BasisState(hf, wires=range(num_wires)) # initial state\n",
    "    qml.DoubleExcitation(params[0], wires=[0,1,2,3])  # first double excitation gate on qubits 0,1,2,3 as it is taking the electrons in the lowest energy level to the intermediate energy level\n",
    "    qml.DoubleExcitation(params[1], wires=[0,1,4,5])  # second double excitation gate on qubits 0,1,4,5 as it will take the electrons in the lowest energy level to the highest energy level "
   ]
  },
  {
   "cell_type": "markdown",
   "id": "9bd83d14",
   "metadata": {},
   "source": [
    "To find the ground state, we need to make use of a property known as the **Ritz Variational principle** which tells that the state that minimizes the expectation value of the Hamiltonian is the ground state; $E_{0}\\leq min\\bra{\\psi}\\hat{H}\\ket{\\psi}$: cost function"
   ]
  },
  {
   "cell_type": "code",
   "execution_count": 56,
   "id": "53149a67",
   "metadata": {},
   "outputs": [],
   "source": [
    "# Step-3\n",
    "@qml.qnode(dev)\n",
    "def cost_function(params):\n",
    "    ansatz(params) # prepare the candidate ground state\n",
    "    return qml.expval(hamiltonian)"
   ]
  },
  {
   "cell_type": "code",
   "execution_count": 57,
   "id": "b5eb589c",
   "metadata": {},
   "outputs": [
    {
     "data": {
      "text/plain": [
       "tensor(-1.26796721, requires_grad=True)"
      ]
     },
     "execution_count": 57,
     "metadata": {},
     "output_type": "execute_result"
    }
   ],
   "source": [
    "cost_function([0.1, 0.1])"
   ]
  },
  {
   "cell_type": "markdown",
   "id": "68ad0041",
   "metadata": {},
   "source": [
    "we get an energy of -1.26 < -1.24 for the Hartree-Fock state, already found a state that has a lower energy of what was supposed to be the ground state"
   ]
  },
  {
   "cell_type": "code",
   "execution_count": 58,
   "id": "a2954003",
   "metadata": {},
   "outputs": [
    {
     "name": "stdout",
     "output_type": "stream",
     "text": [
      "Step=0, Energy=-1.26070025 Ha\n",
      "Step=2, Energy=-1.27115671 Ha\n",
      "Step=4, Energy=-1.27365804 Ha\n",
      "Step=6, Energy=-1.27425241 Ha\n",
      "Step=8, Energy=-1.27439362 Ha\n",
      "Step=10, Energy=-1.27442718 Ha\n",
      "Step=12, Energy=-1.27443517 Ha\n",
      "Step=14, Energy=-1.27443707 Ha\n",
      "Step=16, Energy=-1.27443752 Ha\n",
      "Step=18, Energy=-1.27443763 Ha\n"
     ]
    }
   ],
   "source": [
    "# minimize the expectation value of the Hamiltonian: Optimize the Cost function ckt\n",
    "opt = qml.GradientDescentOptimizer(stepsize=0.4)\n",
    "theta = np.array([0.0,0.0], requires_grad=True)\n",
    "\n",
    "energy = [cost_function(theta)]\n",
    "angle = [theta]\n",
    "max_iterations = 20\n",
    "\n",
    "for n in range(max_iterations):\n",
    "    theta, prev_energy = opt.step_and_cost(cost_function, theta)\n",
    "    \n",
    "    energy.append(cost_function(theta))\n",
    "    angle.append(theta)\n",
    "    \n",
    "    if n%2==0:\n",
    "        print(f\"Step={n}, Energy={energy[-1]:.8f} Ha\")"
   ]
  },
  {
   "cell_type": "code",
   "execution_count": 59,
   "id": "b72512ba",
   "metadata": {},
   "outputs": [
    {
     "name": "stdout",
     "output_type": "stream",
     "text": [
      "\n",
      "Final ground energy: -1.27443764 Ha\n",
      "\n",
      "Final angle parameters: 0.19203468 0.19290335\n"
     ]
    }
   ],
   "source": [
    "print(\"\\n\" f\"Final ground energy: {energy[-1]:.8f} Ha\")\n",
    "print(\"\\n\" f\"Final angle parameters: {theta[0]:.8f} {theta[1]:.8f}\")"
   ]
  },
  {
   "cell_type": "code",
   "execution_count": 60,
   "id": "36e8799f",
   "metadata": {},
   "outputs": [],
   "source": [
    "@qml.qnode(dev)\n",
    "def ground_state(params):\n",
    "    ansatz(params)\n",
    "    return qml.state()"
   ]
  },
  {
   "cell_type": "code",
   "execution_count": 61,
   "id": "8591e3a0",
   "metadata": {},
   "outputs": [
    {
     "data": {
      "text/plain": [
       "tensor([ 0.        +0.j,  0.        +0.j,  0.        +0.j,\n",
       "        -0.09585862+0.j,  0.        +0.j,  0.        +0.j,\n",
       "         0.        +0.j,  0.        +0.j,  0.        +0.j,\n",
       "         0.        +0.j,  0.        +0.j,  0.        +0.j,\n",
       "        -0.09586987+0.j,  0.        +0.j,  0.        +0.j,\n",
       "         0.        +0.j,  0.        +0.j,  0.        +0.j,\n",
       "         0.        +0.j,  0.        +0.j,  0.        +0.j,\n",
       "         0.        +0.j,  0.        +0.j,  0.        +0.j,\n",
       "         0.        +0.j,  0.        +0.j,  0.        +0.j,\n",
       "         0.        +0.j,  0.        +0.j,  0.        +0.j,\n",
       "         0.        +0.j,  0.        +0.j,  0.        +0.j,\n",
       "         0.        +0.j,  0.        +0.j,  0.        +0.j,\n",
       "         0.        +0.j,  0.        +0.j,  0.        +0.j,\n",
       "         0.        +0.j,  0.        +0.j,  0.        +0.j,\n",
       "         0.        +0.j,  0.        +0.j,  0.        +0.j,\n",
       "         0.        +0.j,  0.        +0.j,  0.        +0.j,\n",
       "         0.99076743+0.j,  0.        +0.j,  0.        +0.j,\n",
       "         0.        +0.j,  0.        +0.j,  0.        +0.j,\n",
       "         0.        +0.j,  0.        +0.j,  0.        +0.j,\n",
       "         0.        +0.j,  0.        +0.j,  0.        +0.j,\n",
       "         0.        +0.j,  0.        +0.j,  0.        +0.j,\n",
       "         0.        +0.j], requires_grad=True)"
      ]
     },
     "execution_count": 61,
     "metadata": {},
     "output_type": "execute_result"
    }
   ],
   "source": [
    "ground_state(theta)"
   ]
  },
  {
   "cell_type": "markdown",
   "id": "176427d0",
   "metadata": {},
   "source": [
    "the above state corresponds to: <br>\n",
    "$\\ket{ground-state} = 0.9908\\ket{110000}-0.096\\ket{001100}-0.096\\ket{000011}$"
   ]
  },
  {
   "cell_type": "code",
   "execution_count": null,
   "id": "f7c64240",
   "metadata": {},
   "outputs": [],
   "source": []
  },
  {
   "cell_type": "code",
   "execution_count": null,
   "id": "9954562b",
   "metadata": {},
   "outputs": [],
   "source": []
  }
 ],
 "metadata": {
  "kernelspec": {
   "display_name": "Python 3 (ipykernel)",
   "language": "python",
   "name": "python3"
  },
  "language_info": {
   "codemirror_mode": {
    "name": "ipython",
    "version": 3
   },
   "file_extension": ".py",
   "mimetype": "text/x-python",
   "name": "python",
   "nbconvert_exporter": "python",
   "pygments_lexer": "ipython3",
   "version": "3.9.12"
  }
 },
 "nbformat": 4,
 "nbformat_minor": 5
}
