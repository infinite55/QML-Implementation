{
 "cells": [
  {
   "cell_type": "markdown",
   "id": "a28e70eb",
   "metadata": {},
   "source": [
    "# Classical Algorithm for Deutsch-Jozsa Problem"
   ]
  },
  {
   "cell_type": "code",
   "execution_count": 1,
   "id": "d5ab68f6",
   "metadata": {},
   "outputs": [],
   "source": [
    "def classify_function(func):\n",
    "    n = 2  # Number of bits in the function's input\n",
    "\n",
    "    # Initialize x to 0\n",
    "    x = 0\n",
    "    if func(x) == 0:\n",
    "        # Function is constant\n",
    "        return \"constant\"\n",
    "    else:\n",
    "        # Function is not constant\n",
    "        # Initialize y to 1\n",
    "        y = 1\n",
    "        if func(y) == 0:\n",
    "            # Function is balanced\n",
    "            return \"balanced\"\n",
    "        else:\n",
    "            # Function is constant\n",
    "            return \"constant\""
   ]
  },
  {
   "cell_type": "code",
   "execution_count": 2,
   "id": "6154fe0d",
   "metadata": {},
   "outputs": [],
   "source": [
    "# Example function that is constant\n",
    "def constant_function(x):\n",
    "    return 1"
   ]
  },
  {
   "cell_type": "code",
   "execution_count": 3,
   "id": "c403a809",
   "metadata": {},
   "outputs": [],
   "source": [
    "# Example function that is balanced\n",
    "def balanced_function(x):\n",
    "    if x == 0:\n",
    "        return 1\n",
    "    else:\n",
    "        return 0"
   ]
  },
  {
   "cell_type": "code",
   "execution_count": 4,
   "id": "5bb31c7e",
   "metadata": {},
   "outputs": [
    {
     "name": "stdout",
     "output_type": "stream",
     "text": [
      "constant\n"
     ]
    }
   ],
   "source": [
    "print(classify_function(constant_function))  # Output: \"constant\""
   ]
  },
  {
   "cell_type": "code",
   "execution_count": 5,
   "id": "1ad0d3df",
   "metadata": {},
   "outputs": [
    {
     "name": "stdout",
     "output_type": "stream",
     "text": [
      "balanced\n"
     ]
    }
   ],
   "source": [
    "print(classify_function(balanced_function))  # Output: \"balanced\""
   ]
  },
  {
   "cell_type": "code",
   "execution_count": null,
   "id": "49c5e110",
   "metadata": {},
   "outputs": [],
   "source": []
  },
  {
   "cell_type": "code",
   "execution_count": null,
   "id": "0ba2cee5",
   "metadata": {},
   "outputs": [],
   "source": []
  }
 ],
 "metadata": {
  "kernelspec": {
   "display_name": "Python 3 (ipykernel)",
   "language": "python",
   "name": "python3"
  },
  "language_info": {
   "codemirror_mode": {
    "name": "ipython",
    "version": 3
   },
   "file_extension": ".py",
   "mimetype": "text/x-python",
   "name": "python",
   "nbconvert_exporter": "python",
   "pygments_lexer": "ipython3",
   "version": "3.9.12"
  }
 },
 "nbformat": 4,
 "nbformat_minor": 5
}
