{
 "cells": [
  {
   "cell_type": "markdown",
   "id": "211360f9",
   "metadata": {},
   "source": [
    "# Grover's Algorithm <br>\n",
    "**1. Create a uniform Superposition of all the possible elements in which we are looking for** <br>\n",
    "$\\newcommand{\\ket}[1]{\\left|{#1}\\right\\rangle}$\n",
    "$\\newcommand{\\bra}[1]{\\left\\langle{#1}\\right|}$\n",
    "$\\ket{\\psi_{init.}}=\\frac{1}{\\sqrt{N}}\\sum_{i=1}^{N}\\ket{i}=\\frac{1}{\\sqrt{N}}(\\ket{1}+\\ket{2}+....+\\ket{N})$\n",
    "\n",
    "**2. Apply the oracle**  <br>\n",
    "An oracle is an entity(eg., a function, operator or person) that knows the answer to the problem.<br>\n",
    "-The oracle doesn't know the answer explicitly <br>\n",
    "-Can only verify if a guess is right/wrong\n",
    "here oracle will flip the sign of the solution state(s)\n",
    "\n",
    "**3. Apply the amplifier(Grover operator)** <br>\n",
    "to the flipped state(solution state)"
   ]
  },
  {
   "cell_type": "markdown",
   "id": "11b5af11",
   "metadata": {},
   "source": [
    "### Practical example: The Inheritance <br>\n",
    "We have an amount of property that we want to divide between two siblings. <br>\n",
    "<code>property_prices = [4, 8, 6, 3, 12, 15]   #units in thousands of dollars</code>\n",
    "\n",
    "In our case, we have 6 different properties. We want to see if we can partition them into two sets that have the same value. <br>\n",
    "\n",
    "We will have 6 binary variables:<br>\n",
    "x_i = 0 if the i-th property goes to the first sibling.<br>\n",
    "x_i = 1 if the i-th property goes to the second sibling. <br>\n",
    "\n",
    "Steps: <br>\n",
    "1. We create a superposition of all possible asset allocations \n",
    "2. Through the oracle, we mark those distributions that satisy the request\n",
    "3. We amplify the probability of observing solution states through Grover's operator"
   ]
  },
  {
   "cell_type": "markdown",
   "id": "5b64cdea",
   "metadata": {},
   "source": [
    "**Hadamard Gate** <br>\n",
    "Used to create uniform superposition of computational basis. <br>\n",
    "$H\\ket{0}=\\frac{1}{\\sqrt{2}}[\\ket{0}+\\ket{1}]$ <br>\n",
    "$H\\ket{1}=\\frac{1}{\\sqrt{2}}[\\ket{0}-\\ket{1}]$ <br>\n",
    "On the boch-sphere, it can be decomposed into two rotations: first apply rotation about the y-axis by $90\\deg$ and then apply rotation about the x-axis by $180\\deg$ <br>\n",
    "Matrix representation: $ H = \\begin{bmatrix} 1 & 1 \\\\ 1 & -1 \\end{bmatrix}$ <br>"
   ]
  },
  {
   "cell_type": "code",
   "execution_count": 1,
   "id": "4dca119f",
   "metadata": {},
   "outputs": [],
   "source": [
    "import pennylane as qml\n",
    "from pennylane import numpy as np\n",
    "\n",
    "property_prices = [4, 8, 6, 3, 12, 15] # 48 total\n",
    "\n",
    "variables_wires = [0, 1, 2, 3, 4, 5]\n",
    "aux_oracle_wires = [6, 7, 8, 9, 10, 11] "
   ]
  },
  {
   "cell_type": "code",
   "execution_count": 2,
   "id": "cb0901f7",
   "metadata": {},
   "outputs": [],
   "source": [
    "def oracle(variables_wires, aux_oracle_wires):\n",
    "    \n",
    "    def add_k_fourier(k, wires):\n",
    "        for j in range(len(wires)):\n",
    "            qml.RZ(k * np.pi / (2**j), wires=wires[j])\n",
    "    \n",
    "    def value_second_sibling():\n",
    "        qml.QFT(wires = aux_oracle_wires)  #convert the state from the computational basis into the Fourier basis by applying the QFT\n",
    "        for wire in variables_wires:\n",
    "            qml.ctrl(add_k_fourier, control=wire)(\n",
    "                property_prices[wire],\n",
    "                wires = aux_oracle_wires\n",
    "            )\n",
    "        value_second_sibling()\n",
    "        qml.FlipSign(\n",
    "            sum(property_prices) //2,\n",
    "            wires = aux_oracle_wires\n",
    "        )\n",
    "        qml.adjoint(qml.QFT)(wires = aux_oracle_wires)  # return to computational basis\n",
    "    \n",
    "    value_second_sibling()\n",
    "    qml.FlipSign(sum(property_prices) // 2, wires = aux_oracle_wires)\n",
    "    qml.adjoint(value_second_sibling)()"
   ]
  },
  {
   "cell_type": "code",
   "execution_count": 3,
   "id": "89051241",
   "metadata": {},
   "outputs": [],
   "source": [
    "dev = qml.device(\"default.qubit\", wires = variables_wires + aux_oracle_wires)\n",
    "\n",
    "@qml.qnode(dev)\n",
    "def circuit():\n",
    "    \n",
    "    # step 1 \n",
    "    for wire in variables_wires:\n",
    "        qml.Hadamard(wires = wire)\n",
    "        \n",
    "    #step 2\n",
    "    oracle(variables_wires, aux_oracle_wires)\n",
    "    \n",
    "    #step 3\n",
    "    qml.GroverOperator(wires = variables_wires)\n",
    "    \n",
    "    return qml.probs(wires = variables_wires)"
   ]
  },
  {
   "cell_type": "code",
   "execution_count": null,
   "id": "6c72f800",
   "metadata": {},
   "outputs": [],
   "source": [
    "import matplotlib.pyplot as plt\n",
    "\n",
    "values = circuit()\n",
    "plt.bar(range(len(values)), values)"
   ]
  },
  {
   "cell_type": "code",
   "execution_count": null,
   "id": "f540a3c1",
   "metadata": {},
   "outputs": [],
   "source": []
  }
 ],
 "metadata": {
  "kernelspec": {
   "display_name": "Python 3 (ipykernel)",
   "language": "python",
   "name": "python3"
  },
  "language_info": {
   "codemirror_mode": {
    "name": "ipython",
    "version": 3
   },
   "file_extension": ".py",
   "mimetype": "text/x-python",
   "name": "python",
   "nbconvert_exporter": "python",
   "pygments_lexer": "ipython3",
   "version": "3.9.12"
  }
 },
 "nbformat": 4,
 "nbformat_minor": 5
}
