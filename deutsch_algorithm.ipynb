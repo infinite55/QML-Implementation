{
 "cells": [
  {
   "cell_type": "markdown",
   "id": "b67761b9",
   "metadata": {},
   "source": [
    "# Deutsch Algorithm\n",
    "A quantum algorithm that can determine whether a given Boolean function is constant or balanced. It was the first quantum algorithm to be discovered and is considered a milestone in the field of quantum computing. The Deutsch algorithm has important implications for the computational power of quantum computers and has inspired the development of many other quantum algorithms."
   ]
  },
  {
   "cell_type": "markdown",
   "id": "b6598fd5",
   "metadata": {},
   "source": [
    "The order of the Deutsch algorithm refers to the number of bits in the input to the function.\n",
    "\n",
    "To find the order of the Deutsch algorithm, look at the number of qubits that are used to represent the input to the function. In the Deutsch algorithm, a single qubit is used to represent the input to the function, and the output is a single qubit. Therefore, the order of the Deutsch algorithm is one."
   ]
  },
  {
   "cell_type": "code",
   "execution_count": 2,
   "id": "07d91248",
   "metadata": {},
   "outputs": [],
   "source": [
    "import qiskit"
   ]
  },
  {
   "cell_type": "code",
   "execution_count": 3,
   "id": "84954cba",
   "metadata": {},
   "outputs": [
    {
     "data": {
      "text/plain": [
       "{'qiskit-terra': '0.22.3', 'qiskit-aer': '0.11.2', 'qiskit-ignis': None, 'qiskit-ibmq-provider': '0.19.2', 'qiskit': '0.39.4', 'qiskit-nature': None, 'qiskit-finance': None, 'qiskit-optimization': None, 'qiskit-machine-learning': None}"
      ]
     },
     "execution_count": 3,
     "metadata": {},
     "output_type": "execute_result"
    }
   ],
   "source": [
    "qiskit.__qiskit_version__"
   ]
  },
  {
   "cell_type": "code",
   "execution_count": 4,
   "id": "f707457e",
   "metadata": {},
   "outputs": [],
   "source": [
    "from qiskit import QuantumCircuit, QuantumRegister, ClassicalRegister, execute, Aer"
   ]
  },
  {
   "cell_type": "markdown",
   "id": "1cff52f0",
   "metadata": {},
   "source": [
    "'QuantumCircuit' class is used to represent a quantum circuit  <br>\n",
    "'QuantumRegister' class is used to represent a quantum register <br> \n",
    "'ClassicalRegister' class is used to represent a classical register <br>\n",
    "'execute' function is used to execute a quantum circuit on a quantum backend  <br>\n",
    "'Aer' module is used to access quantum simulators and quantum hardware backends <br>"
   ]
  },
  {
   "cell_type": "code",
   "execution_count": 5,
   "id": "896d1f43",
   "metadata": {},
   "outputs": [],
   "source": [
    "# Create a quantum circuit with one qubit and one classical bit\n",
    "q = QuantumRegister(1)  # object q represents the quantum register with one qubit\n",
    "c = ClassicalRegister(1)  # object c represents the classical register with one bit\n",
    "qc = QuantumCircuit(q, c)  # object qc represents the quantum circuit that consists of the quantum register q and the classical register c"
   ]
  },
  {
   "cell_type": "code",
   "execution_count": 6,
   "id": "3529340d",
   "metadata": {},
   "outputs": [
    {
     "data": {
      "text/plain": [
       "<qiskit.circuit.instructionset.InstructionSet at 0x24f7693b340>"
      ]
     },
     "execution_count": 6,
     "metadata": {},
     "output_type": "execute_result"
    }
   ],
   "source": [
    "# Apply the Deutsch algorithm to the quantum circuit qc\n",
    "qc.x(q[0])  # X-gate: flips its state from 0 to 1 or from 1 to 0\n",
    "qc.h(q[0])  # Hadamard-gate: applied twice which puts it into a superposition of the 0 and 1 states\n",
    "qc.h(q[0])\n",
    "qc.measure(q[0], c[0])  # measures the state of the first qubit and store the result in the first classical bit of the classical register c"
   ]
  },
  {
   "cell_type": "code",
   "execution_count": 7,
   "id": "3bf9fabf",
   "metadata": {},
   "outputs": [
    {
     "name": "stdout",
     "output_type": "stream",
     "text": [
      "{'1': 1}\n"
     ]
    }
   ],
   "source": [
    "# Execute the circuit on a quantum simulator and print the result\n",
    "backend = Aer.get_backend('qasm_simulator')\n",
    "job = execute(qc, backend, shots=1)  # shots=1 to run the quantum circuit once\n",
    "result = job.result()\n",
    "print(result.get_counts())"
   ]
  },
  {
   "cell_type": "code",
   "execution_count": null,
   "id": "5352ac6d",
   "metadata": {},
   "outputs": [],
   "source": []
  },
  {
   "cell_type": "code",
   "execution_count": null,
   "id": "829899b1",
   "metadata": {},
   "outputs": [],
   "source": []
  },
  {
   "cell_type": "code",
   "execution_count": null,
   "id": "4d88c438",
   "metadata": {},
   "outputs": [],
   "source": []
  },
  {
   "cell_type": "code",
   "execution_count": null,
   "id": "eccffead",
   "metadata": {},
   "outputs": [],
   "source": []
  }
 ],
 "metadata": {
  "kernelspec": {
   "display_name": "Python 3 (ipykernel)",
   "language": "python",
   "name": "python3"
  },
  "language_info": {
   "codemirror_mode": {
    "name": "ipython",
    "version": 3
   },
   "file_extension": ".py",
   "mimetype": "text/x-python",
   "name": "python",
   "nbconvert_exporter": "python",
   "pygments_lexer": "ipython3",
   "version": "3.9.12"
  }
 },
 "nbformat": 4,
 "nbformat_minor": 5
}
