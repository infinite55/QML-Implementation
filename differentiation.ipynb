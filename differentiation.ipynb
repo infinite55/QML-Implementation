{
 "cells": [
  {
   "cell_type": "markdown",
   "id": "e5b915f2",
   "metadata": {},
   "source": [
    "# Differentiation on Quantum Hardware"
   ]
  },
  {
   "cell_type": "code",
   "execution_count": 1,
   "id": "9022e86b",
   "metadata": {},
   "outputs": [],
   "source": [
    "import pennylane as qml\n",
    "from pennylane import numpy as np\n",
    "\n",
    "np.set_printoptions(precision=10)  #printing a lot of floating point numbers"
   ]
  },
  {
   "cell_type": "markdown",
   "id": "604d703c",
   "metadata": {},
   "source": [
    "qnode is taking a Quantum function that has gates and measurement, then all of that is joined with a device either a simulator or a real hardware; so in that sense device will definitely come into play when we start taking derivatives of the Quantum function on the device. To take that into account when decorating the Quantum function with **@qml.qnode(dev)**, a keyword argument can also be specified called **diff_method** which specifies the differentiation method to be employed whenever you ask pennylane to take a gradient of the quantum function. <br>\n",
    "\n",
    "You dont have to specify what diff_method is every time you make a qnode, you can leave it out what happens under the hood is pennylane chooses the most performant differentiation method thats compatible with the device."
   ]
  },
  {
   "cell_type": "code",
   "execution_count": 2,
   "id": "3be6b013",
   "metadata": {},
   "outputs": [],
   "source": [
    "dev = qml.device(\"default.qubit\", wires=2)\n",
    "\n",
    "@qml.qnode(dev)\n",
    "def circuit(params):   #params:angle of rotation\n",
    "    qml.RY(params[0] ,wires=0)\n",
    "    qml.RX(params[1], wires=1)\n",
    "    return qml.expval(qml.PauliZ(0) + qml.PauliZ(1)) #expectation value of the linear combination of PauliZ operator on the first qubit and the second qubit"
   ]
  },
  {
   "cell_type": "code",
   "execution_count": 3,
   "id": "dc6442ad",
   "metadata": {},
   "outputs": [
    {
     "name": "stdout",
     "output_type": "stream",
     "text": [
      "1.414213562373095\n"
     ]
    }
   ],
   "source": [
    "params = np.array([-np.pi/4, np.pi/4])\n",
    "print(circuit(params))"
   ]
  },
  {
   "cell_type": "markdown",
   "id": "d8511dba",
   "metadata": {},
   "source": [
    "**FINITE DIFFERENCE GRADIENT METHOD** (approximation to the actual gradient)<br>\n",
    "calculating derivative by using a small but finite value instead of an infinitesimal value of h <br>\n",
    "           $\\frac{\\delta f}{\\delta x} \\approx \\frac{f(x+h)-f(x-h)}{2h}$;    $h<<1$"
   ]
  },
  {
   "cell_type": "code",
   "execution_count": 4,
   "id": "95de43cf",
   "metadata": {},
   "outputs": [],
   "source": [
    "#our custom finite difference gradient function\n",
    "def my_finite_diff_grad(params, h=1.0e-7):  #params is the parameters we wanna differentiate wrt\n",
    "    gradient = np.zeros_like(params)\n",
    "    \n",
    "    for i in range(len(params)):\n",
    "        params[i] += h\n",
    "        gradient[i] += circuit(params)\n",
    "        \n",
    "        params[i] -= 2*h\n",
    "        gradient[i] -= circuit(params)\n",
    "        \n",
    "        gradient[i] /= 2*h\n",
    "        \n",
    "        params[i] += h  #undo -h from params\n",
    "        \n",
    "    return gradient\n",
    "\n",
    "@qml.qnode(dev, diff_method=\"finite-diff\")\n",
    "def circuit_finite_diff(params):\n",
    "    qml.RY(params[0] ,wires=0)\n",
    "    qml.RX(params[1], wires=1)\n",
    "    return qml.expval(qml.PauliZ(0) + qml.PauliZ(1))"
   ]
  },
  {
   "cell_type": "code",
   "execution_count": 5,
   "id": "ae721bc6",
   "metadata": {},
   "outputs": [
    {
     "name": "stdout",
     "output_type": "stream",
     "text": [
      "[-0.7071067798 -0.8660254025]\n",
      "[-0.7071068131 -0.8660254314]\n"
     ]
    }
   ],
   "source": [
    "params = np.array([np.pi/4, np.pi/3], requires_grad = True)\n",
    "\n",
    "print(my_finite_diff_grad(params))\n",
    "print(qml.grad(circuit_finite_diff)(params))  #qml.grad: function which takes in qnode(circuit_finite_diff) and returns the gradient function of tht qnode"
   ]
  },
  {
   "cell_type": "markdown",
   "id": "a0bb6af7",
   "metadata": {},
   "source": [
    "**PARAMETER SHIFT RULE** (partial derivatives of quantum circuit can be computed with linear combinations of circuit evaluations at shifted parameters)<br>\n",
    "With some very reasonable assumptions on the gates in circuit, partial derivatives can be evaluated exactly with the formula <br>\n",
    "$\\frac{\\delta f}{\\delta \\theta} = \\sum_{\\mu = 1}{2R}f(\\theta + \\frac{2\\mu - 1}{2R}\\pi) \\frac{(-1)^{\\mu - 1}}{4R \\sin^{2}(\\frac{2\\mu - 1}{4R}\\pi)}$  which simplies as following when the gates in circuit are Pauli-rotation gates <br>\n",
    "$\\frac{\\delta f}{\\delta \\theta} = \\frac{1}{2 \\sin (s)}(f(\\theta +s)-f(\\theta -s))$, where s is the shift which doesnt have to be very small as in the finite difference differentiation method so we wont get lost in the noise"
   ]
  },
  {
   "cell_type": "code",
   "execution_count": 6,
   "id": "0dc8ee30",
   "metadata": {},
   "outputs": [],
   "source": [
    "def my_parameter_shift_grad(params, s=np.pi/3):\n",
    "    gradient = np.zeros_like(params)\n",
    "    \n",
    "    for i in range(len(params)):\n",
    "        params[i] += s\n",
    "        gradient[i] += circuit(params)\n",
    "        \n",
    "        params[i] -= 2*s\n",
    "        gradient[i] -= circuit(params)\n",
    "        \n",
    "        gradient[i] /= 2*np.sin(s)\n",
    "        \n",
    "        params[i] += s  \n",
    "        \n",
    "    return gradient\n",
    "     \n",
    "@qml.qnode(dev, diff_method=\"parameter-shift\")\n",
    "def circuit_parameter_shift(params):\n",
    "    qml.RY(params[0] ,wires=0)\n",
    "    qml.RX(params[1], wires=1)\n",
    "    return qml.expval(qml.PauliZ(0) + qml.PauliZ(1))"
   ]
  },
  {
   "cell_type": "code",
   "execution_count": 7,
   "id": "cc316a45",
   "metadata": {},
   "outputs": [
    {
     "name": "stdout",
     "output_type": "stream",
     "text": [
      "[-0.7071067812 -0.8660254038]\n",
      "[-0.7071067812 -0.8660254038]\n"
     ]
    }
   ],
   "source": [
    "print(my_parameter_shift_grad(params))\n",
    "print(qml.grad(circuit_parameter_shift)(params))"
   ]
  },
  {
   "cell_type": "code",
   "execution_count": null,
   "id": "1820081f",
   "metadata": {},
   "outputs": [],
   "source": []
  },
  {
   "cell_type": "code",
   "execution_count": null,
   "id": "9bc4953a",
   "metadata": {},
   "outputs": [],
   "source": []
  },
  {
   "cell_type": "code",
   "execution_count": null,
   "id": "54001183",
   "metadata": {},
   "outputs": [],
   "source": []
  },
  {
   "cell_type": "code",
   "execution_count": null,
   "id": "c6a32480",
   "metadata": {},
   "outputs": [],
   "source": []
  }
 ],
 "metadata": {
  "kernelspec": {
   "display_name": "Python 3 (ipykernel)",
   "language": "python",
   "name": "python3"
  },
  "language_info": {
   "codemirror_mode": {
    "name": "ipython",
    "version": 3
   },
   "file_extension": ".py",
   "mimetype": "text/x-python",
   "name": "python",
   "nbconvert_exporter": "python",
   "pygments_lexer": "ipython3",
   "version": "3.9.12"
  }
 },
 "nbformat": 4,
 "nbformat_minor": 5
}
