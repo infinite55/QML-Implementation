{
 "cells": [
  {
   "cell_type": "markdown",
   "id": "19815b48",
   "metadata": {},
   "source": [
    "Problem Definition: <br>\n",
    "Input: Two numbers a,b\n",
    "Output: a+b"
   ]
  },
  {
   "cell_type": "markdown",
   "id": "b27cb233",
   "metadata": {},
   "source": [
    "**Method 1: without using Quantum Fourier Transform**"
   ]
  },
  {
   "cell_type": "markdown",
   "id": "1b7b7d4b",
   "metadata": {},
   "source": [
    "Outline of a quantum algorithm for adding two n-bit integers:\n",
    "1. Initialize two quantum registers, each with n qubits. The first register will hold the first integer, and the second register will hold the second integer.\n",
    "2. Use quantum gates to prepare the registers in the desired state, such that each qubit in the first register corresponds to a bit in the first integer, and each qubit in the second register corresponds to a bit in the second integer.\n",
    "3. Use a quantum version of the classical carry-lookahead adder circuit to perform the addition. This circuit uses a combination of controlled-NOT gates and Toffoli gates to perform the addition, with the goal of minimizing the number of gates needed.\n",
    "4. Measure the final state of the registers to obtain the result of the addition."
   ]
  },
  {
   "cell_type": "markdown",
   "id": "2b794cd6",
   "metadata": {},
   "source": [
    "**Method 2: using Quantum Fourier Transform**"
   ]
  },
  {
   "cell_type": "markdown",
   "id": "594fc063",
   "metadata": {},
   "source": [
    "Outline of a quantum algorithm for adding two n-bit integers using the QFT:\n",
    "1. Initialize two quantum registers, each with n qubits. The first register will hold the first integer, and the second register will hold the second integer.\n",
    "2. Use quantum gates to prepare the registers in the desired state, such that each qubit in the first register corresponds to a bit in the first integer, and each qubit in the second register corresponds to a bit in the second integer.\n",
    "3. Apply the QFT to both registers. This will transform the states of the registers from the computational basis to the Fourier basis.\n",
    "4. Use controlled-phase gates to perform the addition in the Fourier basis. This can be done by adding a phase shift of pi/2 to the second register, controlled on each qubit in the first register.\n",
    "5. Apply the inverse QFT to both registers to transform the states back to the computational basis.\n",
    "6. Measure the final state of the registers to obtain the result of the addition."
   ]
  },
  {
   "cell_type": "code",
   "execution_count": null,
   "id": "97912f0c",
   "metadata": {},
   "outputs": [],
   "source": []
  },
  {
   "cell_type": "code",
   "execution_count": null,
   "id": "933d1bb2",
   "metadata": {},
   "outputs": [],
   "source": []
  },
  {
   "cell_type": "code",
   "execution_count": null,
   "id": "0eece1c1",
   "metadata": {},
   "outputs": [],
   "source": []
  },
  {
   "cell_type": "code",
   "execution_count": null,
   "id": "0a67f0b0",
   "metadata": {},
   "outputs": [],
   "source": []
  },
  {
   "cell_type": "code",
   "execution_count": null,
   "id": "e65398c0",
   "metadata": {},
   "outputs": [],
   "source": []
  },
  {
   "cell_type": "code",
   "execution_count": null,
   "id": "e338e7c4",
   "metadata": {},
   "outputs": [],
   "source": []
  },
  {
   "cell_type": "code",
   "execution_count": null,
   "id": "09458f34",
   "metadata": {},
   "outputs": [],
   "source": []
  },
  {
   "cell_type": "markdown",
   "id": "2500be0a",
   "metadata": {},
   "source": [
    "### Quantum OR <br>\n",
    "$\\newcommand{\\ket}[1]{\\left|{#1}\\right\\rangle}$\n",
    "$\\newcommand{\\bra}[1]{\\left\\langle{#1}\\right|}$\n",
    "Evaluating OR is straightforward on a classical computer as there is a classical gate that evaluates OR of two qubits but an analogous quantum OR gate doesn't exist. The raeson is that our function OR is not invertible, so we cannot take two qubits say a, b and get the following output: $\\ket{a}\\ket{b} = \\ket{a}\\ket{a\\lor b}$, there is loss of information when a=1 and $a \\lor b =1$, then b can be either 0 or 1, i.e., value of b is not uniquely determined but there is a workaround, we can use an additional qubit to store the output and keep the input intact. <br>\n",
    "$\\ket{a}\\ket{b}\\ket{0}\\to \\ket{a}\\ket{b}\\ket{a \\lor b}$ <br>\n",
    "$a \\lor b = a \\otimes b \\otimes ab$ <br>\n",
    "**Algorithm**: <br>\n",
    "1. Apply CC-NOT gate on the target bit with input bits a and b as controls <br>$\\ket{a}\\ket{b}\\ket{0} \\xrightarrow[]{\\text{CC-NOT}} \\ket{a}\\ket{b}\\ket{ab}$ \n",
    "2. Successively apply C-NOT gate on the output using first a as control and then b as control <br> $\\xrightarrow[]{\\text{C-NOT}} \\ket{a}\\ket{b}\\ket{a \\otimes ab}$ <br> $\\xrightarrow[]{\\text{C-NOT}} \\ket{a}\\ket{b}\\ket{a \\otimes b \\otimes ab}$"
   ]
  },
  {
   "cell_type": "code",
   "execution_count": null,
   "id": "92c0f39d",
   "metadata": {},
   "outputs": [],
   "source": [
    "# Quantum Algorithm for OR gate"
   ]
  }
 ],
 "metadata": {
  "kernelspec": {
   "display_name": "Python 3 (ipykernel)",
   "language": "python",
   "name": "python3"
  },
  "language_info": {
   "codemirror_mode": {
    "name": "ipython",
    "version": 3
   },
   "file_extension": ".py",
   "mimetype": "text/x-python",
   "name": "python",
   "nbconvert_exporter": "python",
   "pygments_lexer": "ipython3",
   "version": "3.9.12"
  }
 },
 "nbformat": 4,
 "nbformat_minor": 5
}
